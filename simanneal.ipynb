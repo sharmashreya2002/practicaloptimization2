{
 "cells": [
  {
   "cell_type": "code",
   "execution_count": 7,
   "metadata": {},
   "outputs": [],
   "source": [
    "from simanneal import Annealer\n",
    "class TravellingSalesmanProblem(Annealer):\n",
    "    \"\"\"Test annealer with a travelling salesman problem.\"\"\""
   ]
  },
  {
   "cell_type": "markdown",
   "metadata": {},
   "source": [
    "Example of the Simulated Anneal Program with the Traveling Salesperson"
   ]
  },
  {
   "cell_type": "code",
   "execution_count": 12,
   "metadata": {},
   "outputs": [
    {
     "name": "stderr",
     "output_type": "stream",
     "text": [
      " Temperature        Energy    Accept   Improve     Elapsed   Remaining\n",
      "     2.20000       6887.06     4.90%     0.00%     0:00:03    -1:59:59 Temperature        Energy    Accept   Improve     Elapsed   Remaining\n",
      "     2.20000       6845.62     4.69%     0.00%     0:00:05     0:00:00"
     ]
    },
    {
     "name": "stdout",
     "output_type": "stream",
     "text": [
      "\n",
      "6845 mile route:\n",
      "New York City ➞  Philadelphia ➞  Baltimore ➞  Charlotte ➞  Jacksonville ➞  Houston ➞  Austin ➞  San Antonio ➞  Phoenix ➞  San Diego ➞  Los Angeles ➞  San Jose ➞  San Francisco ➞  Fort Worth ➞  Dallas ➞  Memphis ➞  Indianapolis ➞  Chicago ➞  Detroit ➞  Columbus\n"
     ]
    }
   ],
   "source": [
    "# -*- coding: utf-8 -*-\n",
    "from __future__ import print_function\n",
    "import math\n",
    "import random\n",
    "from collections import defaultdict\n",
    "from simanneal import Annealer\n",
    "\n",
    "\n",
    "def distance(a, b):\n",
    "    \"\"\"Calculates distance between two latitude-longitude coordinates.\"\"\"\n",
    "    R = 3963  # radius of Earth (miles)\n",
    "    lat1, lon1 = math.radians(a[0]), math.radians(a[1])\n",
    "    lat2, lon2 = math.radians(b[0]), math.radians(b[1])\n",
    "    return math.acos(math.sin(lat1) * math.sin(lat2) +\n",
    "                     math.cos(lat1) * math.cos(lat2) * math.cos(lon1 - lon2)) * R\n",
    "\n",
    "\n",
    "class TravellingSalesmanProblem(Annealer):\n",
    "\n",
    "    \"\"\"Test annealer with a travelling salesman problem.\n",
    "    \"\"\"\n",
    "\n",
    "    # pass extra data (the distance matrix) into the constructor\n",
    "    def __init__(self, state, distance_matrix):\n",
    "        self.distance_matrix = distance_matrix\n",
    "        super(TravellingSalesmanProblem, self).__init__(state)  # important!\n",
    "\n",
    "    def move(self):\n",
    "        \"\"\"Swaps two cities in the route.\"\"\"\n",
    "        # no efficiency gain, just proof of concept\n",
    "        # demonstrates returning the delta energy (optional)\n",
    "        initial_energy = self.energy()\n",
    "\n",
    "        a = random.randint(0, len(self.state) - 1)\n",
    "        b = random.randint(0, len(self.state) - 1)\n",
    "        self.state[a], self.state[b] = self.state[b], self.state[a]\n",
    "\n",
    "        return self.energy() - initial_energy\n",
    "\n",
    "    def energy(self):\n",
    "        \"\"\"Calculates the length of the route.\"\"\"\n",
    "        e = 0\n",
    "        for i in range(len(self.state)):\n",
    "            e += self.distance_matrix[self.state[i-1]][self.state[i]]\n",
    "        return e\n",
    "\n",
    "\n",
    "if __name__ == '__main__':\n",
    "\n",
    "    # latitude and longitude for the twenty largest U.S. cities\n",
    "    cities = {\n",
    "        'New York City': (40.72, 74.00),\n",
    "        'Los Angeles': (34.05, 118.25),\n",
    "        'Chicago': (41.88, 87.63),\n",
    "        'Houston': (29.77, 95.38),\n",
    "        'Phoenix': (33.45, 112.07),\n",
    "        'Philadelphia': (39.95, 75.17),\n",
    "        'San Antonio': (29.53, 98.47),\n",
    "        'Dallas': (32.78, 96.80),\n",
    "        'San Diego': (32.78, 117.15),\n",
    "        'San Jose': (37.30, 121.87),\n",
    "        'Detroit': (42.33, 83.05),\n",
    "        'San Francisco': (37.78, 122.42),\n",
    "        'Jacksonville': (30.32, 81.70),\n",
    "        'Indianapolis': (39.78, 86.15),\n",
    "        'Austin': (30.27, 97.77),\n",
    "        'Columbus': (39.98, 82.98),\n",
    "        'Fort Worth': (32.75, 97.33),\n",
    "        'Charlotte': (35.23, 80.85),\n",
    "        'Memphis': (35.12, 89.97),\n",
    "        'Baltimore': (39.28, 76.62)\n",
    "    }\n",
    "\n",
    "    # initial state, a randomly-ordered itinerary\n",
    "    init_state = list(cities)\n",
    "    random.shuffle(init_state)\n",
    "\n",
    "    # create a distance matrix\n",
    "    distance_matrix = defaultdict(dict)\n",
    "    for ka, va in cities.items():\n",
    "        for kb, vb in cities.items():\n",
    "            distance_matrix[ka][kb] = 0.0 if kb == ka else distance(va, vb)\n",
    "\n",
    "    tsp = TravellingSalesmanProblem(init_state, distance_matrix)\n",
    "    tsp.set_schedule(tsp.auto(minutes=0.2))\n",
    "    # since our state is just a list, slice is the fastest way to copy\n",
    "    tsp.copy_strategy = \"slice\"\n",
    "    state, e = tsp.anneal()\n",
    "\n",
    "    while state[0] != 'New York City':\n",
    "        state = state[1:] + state[:1]  # rotate NYC to start\n",
    "\n",
    "    print()\n",
    "    print(\"%i mile route:\" % e)\n",
    "    print(\" ➞  \".join(state))"
   ]
  },
  {
   "cell_type": "code",
   "execution_count": 13,
   "metadata": {},
   "outputs": [],
   "source": [
    "from simanneal import Annealer\n",
    "import numpy as np\n",
    "import random\n",
    "class KeanesBumpFunction(Annealer):\n",
    "    \"\"\"Test annealer with the 2D Keanes Bump Function.\"\"\"\n",
    "    def move(self):\n",
    "        \"\"\"Move the state vector .\"\"\"\n",
    "        u = np.random.uniform(-1, 1, len(self.state))\n",
    "        D = 0.5 * np.identity(len(self.state))\n",
    "        alpha = 0.1\n",
    "        w = 2.1\n",
    "        \n",
    "        a = random.randint(0, len(self.state) - 1)\n",
    "        b = random.randint(0, len(self.state) - 1)\n",
    "        self.state[a], self.state[b] = self.state[b], self.state[a]"
   ]
  }
 ],
 "metadata": {
  "kernelspec": {
   "display_name": "pracop2",
   "language": "python",
   "name": "python3"
  },
  "language_info": {
   "codemirror_mode": {
    "name": "ipython",
    "version": 3
   },
   "file_extension": ".py",
   "mimetype": "text/x-python",
   "name": "python",
   "nbconvert_exporter": "python",
   "pygments_lexer": "ipython3",
   "version": "3.8.18"
  }
 },
 "nbformat": 4,
 "nbformat_minor": 2
}
