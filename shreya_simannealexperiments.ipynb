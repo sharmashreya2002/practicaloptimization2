{
 "cells": [
  {
   "cell_type": "code",
   "execution_count": 9,
   "metadata": {},
   "outputs": [],
   "source": [
    "import numpy as np\n",
    "import random\n",
    "import math\n",
    "\n",
    "## seed the random number generator for all but the initial condtition x\n",
    "rng1 = np.random.default_rng(seed=0)\n",
    "\n",
    "def move(x, D, rng):\n",
    "    \"\"\"Move the state vector .\"\"\"\n",
    "    u = rng.uniform(-1, 1, len(x))\n",
    "    alpha = 0.1\n",
    "    w = 2.1\n",
    "    R = np.diag(np.dot(D, u))\n",
    "    D = (1 - alpha) * D + alpha * w * R\n",
    "    min_step_size = 1e-4 #FIX\n",
    "    D = np.where(D < min_step_size, min_step_size, D)\n",
    "    x = x + np.dot(D, u)\n",
    "    return x, D, u\n",
    "\n",
    "def objective(x, n):\n",
    "    \"\"\"Keane's Bump function.\n",
    "    n = dimension of the domain\n",
    "    x = vector in the domain\"\"\"\n",
    "    cos4 = 0\n",
    "    cos2 = 1\n",
    "    x_i = 0\n",
    "    for i in range(n):\n",
    "        cos4 += math.cos(x[i])**4\n",
    "        cos2 *= math.cos(x[i])**2\n",
    "        x_i += (i+1)*(x[i]**2)\n",
    "    if x_i == 0:\n",
    "        answer = None\n",
    "    else:\n",
    "        answer = np.abs((cos4 - 2*cos2)/math.sqrt(x_i))\n",
    "    ## we are turning the maximization problem into a minimization problem\n",
    "    return -1 * answer\n",
    "\n",
    "def assess_solution(x_prev, n, D_prev, T, counter, rng):\n",
    "    f_prev = objective(x_prev, n)\n",
    "    x, D, u = move(x_prev, D_prev, rng)\n",
    "    ## test constraints and reject move, if necessary\n",
    "    if np.all(x) < 0 or np.all(x) > 10:\n",
    "        return x_prev, D_prev, counter\n",
    "    if np.prod(x) <= 0.75 or np.sum(x) >= (15*n/2):\n",
    "        return x_prev, D_prev, counter\n",
    "    f = objective(x, n)\n",
    "    if f < f_prev:\n",
    "        counter += 1\n",
    "        return x, D, counter\n",
    "    else:\n",
    "        step_size = np.sqrt(np.sum(np.dot(D, u)**2))\n",
    "        acceptance_prob = np.exp((f_prev - f)/(T*step_size))\n",
    "        if random.random() < acceptance_prob:\n",
    "            counter += 1\n",
    "            return x, D, counter\n",
    "        else:\n",
    "            counter += 1\n",
    "            return x_prev, D_prev, counter\n",
    "\n",
    "def temperature_schedule(T, alpha_T):\n",
    "    return alpha_T*T\n",
    "\n",
    "def archive_function(x, f, archive):\n",
    "    ## 10 best solutions \n",
    "    archive_limit = 10\n",
    "    if len(archive) < archive_limit:\n",
    "        archive.append((x, f))\n",
    "    else:\n",
    "        archive.append((x, f))  # Update all elements\n",
    "        archive.sort(key=lambda item: item[1])  # Sort the archive by objective function value\n",
    "        archive = archive[:archive_limit]  # Keep only the top elements\n",
    "    return archive\n",
    "\n",
    "\n",
    "def main(x, n, Tin):\n",
    "    ## initialize covariance matrix\n",
    "    D = 2 * np.identity(n)\n",
    "    ## initial temperature (FOUND THROUGH EMPIRCAL TUNING)\n",
    "    T = Tin\n",
    "    ## final temperature (FIX)\n",
    "    T_min = 1e-5\n",
    "    ## min acceptance ratio (HYPER PARAMETER)\n",
    "    min_acceptance_ratio = 0.01\n",
    "    ## cooling rate (HYPER PARAMETER)\n",
    "    alpha_T = 0.95\n",
    "    ## markov chain length (HYPER PARAMETER)\n",
    "    Lk = 500\n",
    "    nmin = Lk *0.6\n",
    "\n",
    "    ## initailize state, covariance matrix\n",
    "    x_prev = x\n",
    "    D_prev = D\n",
    "    ## max number of iterations\n",
    "    # max_iter = 10000\n",
    "    counter = 0\n",
    "    ## initialize archive\n",
    "    archive = []\n",
    "\n",
    "    accepted_points = []\n",
    "\n",
    "    while T > T_min:\n",
    "    # while True:\n",
    "        acceptances = 0\n",
    "        ## when either Lk trials or nmin acceptances whichever comes first, decrement the temperature \n",
    "        for i in range(Lk):\n",
    "            x, D, counter = assess_solution(x_prev, n, D_prev, T, counter, rng1)\n",
    "            if not np.array_equal(x, x_prev):\n",
    "                acceptances += 1\n",
    "                archive = archive_function(x, objective(x, n), archive)\n",
    "                accepted_points.append(x)\n",
    "                x_prev = x\n",
    "                D_prev = D\n",
    "            if acceptances == nmin:\n",
    "                break\n",
    "        ## decrement temperature\n",
    "        T = temperature_schedule(T, alpha_T)\n",
    "        ## no accepted moves in Lk iterations at temperature Tk\n",
    "        if acceptances/ Lk <= min_acceptance_ratio:\n",
    "            print(counter)\n",
    "            break\n",
    "        # if counter >= max_iter:\n",
    "        #     print(f\"counter == max_iter, break\")\n",
    "        #     break\n",
    "    return archive, accepted_points"
   ]
  },
  {
   "cell_type": "code",
   "execution_count": 11,
   "metadata": {},
   "outputs": [
    {
     "name": "stdout",
     "output_type": "stream",
     "text": [
      "[2.34 9.74 9.6  2.82 3.7  9.17 7.68 3.14]\n"
     ]
    }
   ],
   "source": [
    "while True:\n",
    "    x = np.round(np.random.uniform(0, 10, 8), 2)\n",
    "    n = 8\n",
    "    if np.prod(x) >= 0.75 and np.sum(x) <= (15*n/2):\n",
    "        break\n",
    "print(x)"
   ]
  },
  {
   "cell_type": "code",
   "execution_count": 12,
   "metadata": {},
   "outputs": [],
   "source": [
    "archive, accepted_points = main(x, n, Tin = 0.2)"
   ]
  },
  {
   "cell_type": "code",
   "execution_count": 13,
   "metadata": {},
   "outputs": [
    {
     "name": "stdout",
     "output_type": "stream",
     "text": [
      "(array([ 3.01800499, 10.513889  ,  9.22421438,  0.51428127,  6.54118185,\n",
      "        9.53216532,  8.94777199,  3.06737619]), -0.1326266187959923)\n"
     ]
    }
   ],
   "source": [
    "best = min(archive, key=lambda x: x[1])\n",
    "print(best)"
   ]
  },
  {
   "cell_type": "markdown",
   "metadata": {},
   "source": [
    "Now that we have confirmed that the 8D case is working as expected, we can fine tune to find the performance when tuning different hyper-parameters"
   ]
  }
 ],
 "metadata": {
  "kernelspec": {
   "display_name": "pracop2",
   "language": "python",
   "name": "python3"
  },
  "language_info": {
   "codemirror_mode": {
    "name": "ipython",
    "version": 3
   },
   "file_extension": ".py",
   "mimetype": "text/x-python",
   "name": "python",
   "nbconvert_exporter": "python",
   "pygments_lexer": "ipython3",
   "version": "3.8.18"
  }
 },
 "nbformat": 4,
 "nbformat_minor": 2
}
